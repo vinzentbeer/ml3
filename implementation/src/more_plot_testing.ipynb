{
 "cells": [
  {
   "cell_type": "code",
   "execution_count": 32,
   "metadata": {},
   "outputs": [],
   "source": [
    "import argparse\n",
    "import os\n",
    "import torch\n",
    "import torch.nn as nn\n",
    "import torch.optim as optim\n",
    "from torch.utils.data import DataLoader\n",
    "from tqdm import tqdm\n",
    "import yaml\n",
    "\n",
    "from data_loader import get_dataloaders\n",
    "from model import SRCNN\n",
    "from test import evaluate_model\n",
    "from utils import load_config, parse_args\n",
    "import logging\n"
   ]
  },
  {
   "cell_type": "code",
   "execution_count": 33,
   "metadata": {},
   "outputs": [],
   "source": [
    "import numpy as np\n",
    "from matplotlib import pyplot as plt\n",
    "import pandas as pd\n",
    "\n",
    "import numpy as np"
   ]
  },
  {
   "cell_type": "code",
   "execution_count": 34,
   "metadata": {},
   "outputs": [],
   "source": [
    "resample_scale_factor = 2\n",
    "num_epochs = 55\n",
    "filename = \"test_metrics.csv\""
   ]
  },
  {
   "cell_type": "code",
   "execution_count": 35,
   "metadata": {},
   "outputs": [],
   "source": [
    "config = load_config(\"config.json\")"
   ]
  },
  {
   "cell_type": "code",
   "execution_count": 36,
   "metadata": {},
   "outputs": [
    {
     "name": "stderr",
     "output_type": "stream",
     "text": [
      "2025-02-26 14:30:58,586 - INFO - Using 22 images from ../data/train2017\n",
      "2025-02-26 14:30:58,588 - INFO - Train dataset size: 18\n",
      "2025-02-26 14:30:58,589 - INFO - Validation dataset size: 2\n",
      "2025-02-26 14:30:58,590 - INFO - Test dataset size: 2\n"
     ]
    }
   ],
   "source": [
    "_, _, testloader = get_dataloaders(seed=42, resample_scale_factor=resample_scale_factor)"
   ]
  },
  {
   "cell_type": "code",
   "execution_count": 37,
   "metadata": {},
   "outputs": [
    {
     "name": "stderr",
     "output_type": "stream",
     "text": [
      "100%|██████████| 1/1 [00:00<00:00,  7.41it/s]\n",
      "100%|██████████| 1/1 [00:00<00:00,  6.98it/s]\n",
      "100%|██████████| 1/1 [00:00<00:00,  9.45it/s]\n",
      "100%|██████████| 1/1 [00:00<00:00,  8.90it/s]\n",
      "100%|██████████| 1/1 [00:00<00:00,  9.39it/s]\n",
      "100%|██████████| 1/1 [00:00<00:00,  9.44it/s]\n",
      "100%|██████████| 1/1 [00:00<00:00,  9.26it/s]\n",
      "100%|██████████| 1/1 [00:00<00:00,  9.16it/s]\n",
      "100%|██████████| 1/1 [00:00<00:00,  9.72it/s]\n",
      "100%|██████████| 1/1 [00:00<00:00, 10.06it/s]\n",
      "100%|██████████| 1/1 [00:00<00:00,  9.72it/s]\n",
      "100%|██████████| 1/1 [00:00<00:00,  9.14it/s]\n",
      "100%|██████████| 1/1 [00:00<00:00,  9.03it/s]\n",
      "100%|██████████| 1/1 [00:00<00:00,  9.20it/s]\n",
      "100%|██████████| 1/1 [00:00<00:00,  8.74it/s]\n",
      "100%|██████████| 1/1 [00:00<00:00,  8.09it/s]\n",
      "100%|██████████| 1/1 [00:00<00:00,  8.03it/s]\n",
      "100%|██████████| 1/1 [00:00<00:00,  9.05it/s]\n",
      "100%|██████████| 1/1 [00:00<00:00,  8.90it/s]\n",
      "100%|██████████| 1/1 [00:00<00:00,  8.26it/s]\n",
      "100%|██████████| 1/1 [00:00<00:00,  8.53it/s]\n",
      "100%|██████████| 1/1 [00:00<00:00,  9.36it/s]\n",
      "100%|██████████| 1/1 [00:00<00:00,  9.49it/s]\n",
      "100%|██████████| 1/1 [00:00<00:00,  9.24it/s]\n",
      "100%|██████████| 1/1 [00:00<00:00,  9.30it/s]\n",
      "100%|██████████| 1/1 [00:00<00:00,  9.52it/s]\n",
      "100%|██████████| 1/1 [00:00<00:00,  9.47it/s]\n",
      "100%|██████████| 1/1 [00:00<00:00,  9.20it/s]\n",
      "100%|██████████| 1/1 [00:00<00:00,  9.07it/s]\n",
      "100%|██████████| 1/1 [00:00<00:00,  9.30it/s]\n",
      "100%|██████████| 1/1 [00:00<00:00,  9.26it/s]\n",
      "100%|██████████| 1/1 [00:00<00:00,  9.31it/s]\n",
      "100%|██████████| 1/1 [00:00<00:00,  9.00it/s]\n",
      "100%|██████████| 1/1 [00:00<00:00,  8.55it/s]\n",
      "100%|██████████| 1/1 [00:00<00:00,  6.88it/s]\n",
      "100%|██████████| 1/1 [00:00<00:00,  7.97it/s]\n",
      "100%|██████████| 1/1 [00:00<00:00,  8.66it/s]\n",
      "100%|██████████| 1/1 [00:00<00:00,  8.57it/s]\n",
      "100%|██████████| 1/1 [00:00<00:00,  9.09it/s]\n",
      "100%|██████████| 1/1 [00:00<00:00,  9.29it/s]\n",
      "100%|██████████| 1/1 [00:00<00:00,  9.37it/s]\n",
      "100%|██████████| 1/1 [00:00<00:00,  9.30it/s]\n",
      "100%|██████████| 1/1 [00:00<00:00,  9.17it/s]\n",
      "100%|██████████| 1/1 [00:00<00:00,  9.31it/s]\n",
      "100%|██████████| 1/1 [00:00<00:00,  9.40it/s]\n",
      "100%|██████████| 1/1 [00:00<00:00,  8.85it/s]\n",
      "100%|██████████| 1/1 [00:00<00:00,  9.53it/s]\n",
      "100%|██████████| 1/1 [00:00<00:00,  9.47it/s]\n",
      "100%|██████████| 1/1 [00:00<00:00,  9.44it/s]\n",
      "100%|██████████| 1/1 [00:00<00:00,  9.30it/s]\n",
      "100%|██████████| 1/1 [00:00<00:00,  9.51it/s]\n",
      "100%|██████████| 1/1 [00:00<00:00,  9.14it/s]\n",
      "100%|██████████| 1/1 [00:00<00:00,  8.86it/s]\n",
      "100%|██████████| 1/1 [00:00<00:00,  7.90it/s]\n",
      "100%|██████████| 1/1 [00:00<00:00,  8.58it/s]\n"
     ]
    }
   ],
   "source": [
    "device = torch.device(\"cuda\" if torch.cuda.is_available() else \"cpu\")\n",
    "filename = \"test_metrics_finetuned_models.csv\"\n",
    "for i in range(1,num_epochs+1):\n",
    "    model = SRCNN()\n",
    "    #if file exists\n",
    "    if not os.path.isfile(f'../model/model_{i}_final.pt'):\n",
    "        print(\"File not found!\")\n",
    "        continue\n",
    "    model.load_state_dict(torch.load(f'../model/model_{i}_final.pt', map_location=device))\n",
    "    evaluate_model(model, testloader, config, filename)"
   ]
  },
  {
   "cell_type": "code",
   "execution_count": 38,
   "metadata": {},
   "outputs": [],
   "source": [
    "def validate_model(model, validloader, criterion, device, config):\n",
    "    model.eval()  # Set model to evaluation mode\n",
    "    total_loss = 0.0\n",
    "    with torch.no_grad():  # Disable gradient calculation during validation\n",
    "        for inputs, labels in validloader:\n",
    "            inputs, labels = inputs.to(device), labels.to(device)\n",
    "            outputs = model(inputs)\n",
    "            loss = criterion(outputs, labels)\n",
    "            total_loss += loss.item() * inputs.size(0)  # Accumulate loss\n",
    "\n",
    "    avg_loss = total_loss / len(validloader.dataset)\n",
    "    logging.info(f\"Validation Loss: {avg_loss:.4f}\")\n",
    "\n",
    "    validation_metrics = evaluate_model(model, validloader, config)\n",
    "    logging.info(validation_metrics)\n",
    "    return validation_metrics"
   ]
  },
  {
   "cell_type": "code",
   "execution_count": null,
   "metadata": {},
   "outputs": [],
   "source": [
    "metric_file = \"../results/test_metrics_finetuned_models.csv\""
   ]
  },
  {
   "cell_type": "code",
   "execution_count": 39,
   "metadata": {},
   "outputs": [
    {
     "name": "stdout",
     "output_type": "stream",
     "text": [
      "[0.00184647 0.01761448 0.00240064 ... 0.00104934 0.00115241 0.00137482]\n",
      "[25.9221 25.925  26.781  27.2264 27.4342 27.5319 27.5389 27.6357 27.7238\n",
      " 27.7612 27.7862 27.814  27.8434 27.851  27.8877 26.494  27.9106 27.9163\n",
      " 27.96   27.986  27.9968 28.0236 28.0284 28.0162 28.0766 28.0583 28.0966\n",
      " 28.1283 28.1407 28.156  28.0193 28.1823 28.2041 28.2182 28.1747 28.1939\n",
      " 28.2781 28.2432 28.3118 28.3229 28.3453 28.2899 28.3685 28.1324 28.3693\n",
      " 28.4038 28.1734 28.411  28.4016 28.3987 28.4353 28.4226 28.4483 28.3412\n",
      " 28.4259 28.4761 28.487  28.4932 28.4758 28.5072 28.4157 28.5189 28.5218\n",
      " 28.5006 28.5055 28.5307 28.5478 28.3604 28.2444 28.5636 28.5651 28.5183\n",
      " 28.5731 28.564  28.5872 28.594  28.5662 28.5966 28.5019 28.6101 28.6099\n",
      " 28.53   28.6108 28.5947 28.6242 28.634  28.6328 28.6414 28.5647 28.644\n",
      " 28.5516 28.6486 28.3987 28.6188 28.5972 28.6733 28.6556 28.6719 28.6815\n",
      " 28.6549 28.6888 16.8248 30.8352 30.8352 30.8352 28.7882 28.7882 28.3346\n",
      " 28.3469 28.3589 28.3684 28.3669 28.0045 28.4008 28.3269 28.4231 28.4369\n",
      " 28.4294 22.816  22.713  23.0644 23.059  23.3137 23.0776 23.4488 23.5157\n",
      " 23.5563 22.0457 23.4757 23.6204 23.5959 23.6614 23.6788 23.6451 23.6447\n",
      " 23.6974 23.731  23.266  23.7341 28.5038 28.5234 28.5369 28.5471 28.5716\n",
      " 28.5851]\n",
      "[0.8558 0.8537 0.8787 0.8906 0.8961 0.8996 0.9017 0.9033 0.9053 0.9066\n",
      " 0.9073 0.9081 0.9089 0.9095 0.9101 0.9096 0.9113 0.9115 0.9119 0.9122\n",
      " 0.9126 0.9128 0.9131 0.9132 0.9137 0.9143 0.915  0.9153 0.9158 0.916\n",
      " 0.9163 0.917  0.9174 0.9181 0.918  0.9178 0.918  0.918  0.9181 0.9184\n",
      " 0.9187 0.9184 0.9188 0.9189 0.9191 0.9193 0.9192 0.9198 0.9195 0.9196\n",
      " 0.9198 0.9202 0.9208 0.9204 0.9214 0.921  0.9212 0.9219 0.9226 0.9225\n",
      " 0.9223 0.9224 0.9225 0.9222 0.9224 0.9222 0.9225 0.9216 0.9225 0.9227\n",
      " 0.9224 0.9222 0.9225 0.9226 0.9227 0.9227 0.9229 0.9225 0.9231 0.9232\n",
      " 0.9232 0.9217 0.9235 0.9233 0.924  0.9242 0.9243 0.9244 0.9233 0.9246\n",
      " 0.925  0.9245 0.9242 0.9252 0.9253 0.9255 0.9249 0.9262 0.9258 0.9263\n",
      " 0.9257 0.5774 0.9465 0.9465 0.9465 0.9265 0.9265 0.9186 0.9189 0.9189\n",
      " 0.9191 0.9194 0.9188 0.9197 0.9198 0.9204 0.9206 0.9204 0.7432 0.7281\n",
      " 0.7519 0.7565 0.7606 0.7549 0.7667 0.7686 0.77   0.7609 0.7708 0.7715\n",
      " 0.7702 0.7729 0.7742 0.7745 0.7714 0.7767 0.7758 0.7584 0.7747 0.9223\n",
      " 0.9233 0.9236 0.9235 0.9242 0.9241]\n"
     ]
    }
   ],
   "source": [
    "loss_values = np.loadtxt(\"../model/losses.csv\", delimiter=\",\", usecols=0)\n",
    "print(loss_values)\n",
    "\n",
    "psnr_values = np.loadtxt(\"../results/evaluation_metrics_results.csv\", usecols=1, skiprows=1, delimiter=\",\")\n",
    "print(psnr_values)\n",
    "\n",
    "ssim_values = np.loadtxt(\"../results/evaluation_metrics_results.csv\", usecols=2, skiprows=1, delimiter=\",\")\n",
    "print(ssim_values)\n",
    "\n",
    "msssim_values = np.loadtxt(\"../results/evaluation_metrics_results.csv\", usecols=3, skiprows=1, delimiter=\",\")\n",
    "print(ssim_values)"
   ]
  },
  {
   "cell_type": "code",
   "execution_count": null,
   "metadata": {},
   "outputs": [],
   "source": []
  },
  {
   "cell_type": "code",
   "execution_count": 40,
   "metadata": {},
   "outputs": [],
   "source": [
    "num_epochs = len(loss_values) #// 296\n",
    "loss_x = np.arange(0, num_epochs + 1, 1 / 296)\n",
    "loss_x = loss_x[:len(loss_values)]\n",
    "\n",
    "num_epochs = len(psnr_values) \n",
    "psnr_x = np.arange(0, num_epochs + 1, 1 )\n",
    "psnr_x = psnr_x[:len(psnr_values)]\n",
    "\n",
    "num_epochs = len(ssim_values)\n",
    "ssim_x = np.arange(0, num_epochs + 1, 1 )\n",
    "ssim_x = ssim_x[:len(ssim_values)]"
   ]
  }
 ],
 "metadata": {
  "kernelspec": {
   "display_name": ".venv",
   "language": "python",
   "name": "python3"
  },
  "language_info": {
   "codemirror_mode": {
    "name": "ipython",
    "version": 3
   },
   "file_extension": ".py",
   "mimetype": "text/x-python",
   "name": "python",
   "nbconvert_exporter": "python",
   "pygments_lexer": "ipython3",
   "version": "3.10.16"
  }
 },
 "nbformat": 4,
 "nbformat_minor": 2
}

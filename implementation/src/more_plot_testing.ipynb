{
 "cells": [
  {
   "cell_type": "code",
   "execution_count": null,
   "metadata": {},
   "outputs": [],
   "source": [
    "import argparse\n",
    "import os\n",
    "import torch\n",
    "import torch.nn as nn\n",
    "import torch.optim as optim\n",
    "from torch.utils.data import DataLoader\n",
    "from tqdm import tqdm\n",
    "import yaml\n",
    "\n",
    "from data_loader import get_dataloaders\n",
    "from model import SRCNN\n",
    "from test import evaluate_model\n",
    "from utils import load_config, parse_args\n",
    "import logging\n"
   ]
  },
  {
   "cell_type": "code",
   "execution_count": 1,
   "metadata": {},
   "outputs": [],
   "source": [
    "import numpy as np\n",
    "from matplotlib import pyplot as plt\n",
    "import pandas as pd\n",
    "\n",
    "import numpy as np"
   ]
  },
  {
   "cell_type": "code",
   "execution_count": null,
   "metadata": {},
   "outputs": [],
   "source": [
    "resample_scale_factor = 2\n",
    "num_epochs = 100\n",
    "filename = \"test_metrics.csv\""
   ]
  },
  {
   "cell_type": "code",
   "execution_count": null,
   "metadata": {},
   "outputs": [],
   "source": []
  },
  {
   "cell_type": "code",
   "execution_count": null,
   "metadata": {},
   "outputs": [],
   "source": [
    "_, _, testloader = get_dataloaders(seed=42, resample_scale_factor=resample_scale_factor)"
   ]
  },
  {
   "cell_type": "code",
   "execution_count": null,
   "metadata": {},
   "outputs": [],
   "source": [
    "device = torch.device(\"cuda\" if torch.cuda.is_available() else \"cpu\")\n",
    "\n",
    "for i in range(1,num_epochs):\n",
    "    model = SRCNN()\n",
    "    model.load_state_dict(torch.load(f'../model/model_{i}_best.pt', map_location=device))"
   ]
  },
  {
   "cell_type": "code",
   "execution_count": null,
   "metadata": {},
   "outputs": [],
   "source": [
    "def validate_model(model, validloader, criterion, device, config):\n",
    "    model.eval()  # Set model to evaluation mode\n",
    "    total_loss = 0.0\n",
    "    with torch.no_grad():  # Disable gradient calculation during validation\n",
    "        for inputs, labels in validloader:\n",
    "            inputs, labels = inputs.to(device), labels.to(device)\n",
    "            outputs = model(inputs)\n",
    "            loss = criterion(outputs, labels)\n",
    "            total_loss += loss.item() * inputs.size(0)  # Accumulate loss\n",
    "\n",
    "    avg_loss = total_loss / len(validloader.dataset)\n",
    "    logging.info(f\"Validation Loss: {avg_loss:.4f}\")\n",
    "\n",
    "    validation_metrics = evaluate_model(model, validloader, config)\n",
    "    logging.info(validation_metrics)\n",
    "    return validation_metrics"
   ]
  },
  {
   "cell_type": "code",
   "execution_count": 2,
   "metadata": {},
   "outputs": [
    {
     "name": "stdout",
     "output_type": "stream",
     "text": [
      "[]\n",
      "[ 7.1057  7.5746  8.0949  8.6853  9.364  10.1444 11.0436 12.0732 13.2233\n",
      " 14.4153 15.4325 15.8991 15.577  14.8057 14.1449 13.8219 13.8349 14.1127\n",
      " 14.5708 15.1104 15.6249 16.0224 16.2521 16.318  16.2657 16.1546 16.0348\n",
      " 15.9408 25.9221 25.925  26.781  27.2264 27.4342 27.5319 27.5389 27.6357\n",
      " 27.7238 27.7612 27.7862 27.814  27.8434 27.851  27.8877 26.494  27.9106\n",
      " 27.9163 27.96   27.986  27.9968 28.0236 28.0284 28.0162 28.0766 28.0583\n",
      " 28.0966 28.1283 28.1407 28.156  28.0193 28.1823 28.2041 28.2182 28.1747\n",
      " 28.1939 28.2781 28.2432 28.3118 28.3229 28.3453 28.2899 28.3685 28.1324\n",
      " 28.3693 28.4038 28.1734 28.411  28.4016 28.3987 28.4353 28.4226 28.4483\n",
      " 28.3412 28.4259 28.4761 28.487  28.4932 28.4758 28.5072 28.4157 28.5189\n",
      " 28.5218 28.5006 28.5055 28.5307 28.5478 28.3604 28.2444 28.5636 28.5651\n",
      " 28.5183 28.5731 28.564  28.5872 28.594  28.5662 28.5966 28.5019 28.6101\n",
      " 28.6099 28.53   28.6108 28.5947 28.6242 28.634  28.6328 28.6414 28.5647\n",
      " 28.644  28.5516 28.6486 28.3987 28.6188 28.5972 28.6733 28.6556 28.6719\n",
      " 28.6815 28.6549 28.6888 16.8248 30.8352 30.8352 30.8352 28.7882 28.7882\n",
      " 28.3346 28.3469 28.3589 28.3684 28.3669 28.0045 28.4008 28.3269 28.4231\n",
      " 28.4369 28.4294 22.816  22.713  23.0644 23.059  23.3137 23.0776 23.4488\n",
      " 23.5157 23.5563 22.0457 23.4757 23.6204 23.5959 23.6614 23.6788 23.6451\n",
      " 23.6447 23.6974 23.731  23.266  23.7341 28.5038 28.5234 28.5369 28.5471]\n",
      "[0.0364 0.096  0.155  0.2083 0.2606 0.3109 0.3571 0.3971 0.4297 0.4533\n",
      " 0.4686 0.4935 0.5086 0.5157 0.5183 0.5191 0.5193 0.5191 0.5181 0.516\n",
      " 0.5122 0.5067 0.4998 0.4931 0.4876 0.4847 0.4842 0.4842 0.8558 0.8537\n",
      " 0.8787 0.8906 0.8961 0.8996 0.9017 0.9033 0.9053 0.9066 0.9073 0.9081\n",
      " 0.9089 0.9095 0.9101 0.9096 0.9113 0.9115 0.9119 0.9122 0.9126 0.9128\n",
      " 0.9131 0.9132 0.9137 0.9143 0.915  0.9153 0.9158 0.916  0.9163 0.917\n",
      " 0.9174 0.9181 0.918  0.9178 0.918  0.918  0.9181 0.9184 0.9187 0.9184\n",
      " 0.9188 0.9189 0.9191 0.9193 0.9192 0.9198 0.9195 0.9196 0.9198 0.9202\n",
      " 0.9208 0.9204 0.9214 0.921  0.9212 0.9219 0.9226 0.9225 0.9223 0.9224\n",
      " 0.9225 0.9222 0.9224 0.9222 0.9225 0.9216 0.9225 0.9227 0.9224 0.9222\n",
      " 0.9225 0.9226 0.9227 0.9227 0.9229 0.9225 0.9231 0.9232 0.9232 0.9217\n",
      " 0.9235 0.9233 0.924  0.9242 0.9243 0.9244 0.9233 0.9246 0.925  0.9245\n",
      " 0.9242 0.9252 0.9253 0.9255 0.9249 0.9262 0.9258 0.9263 0.9257 0.5774\n",
      " 0.9465 0.9465 0.9465 0.9265 0.9265 0.9186 0.9189 0.9189 0.9191 0.9194\n",
      " 0.9188 0.9197 0.9198 0.9204 0.9206 0.9204 0.7432 0.7281 0.7519 0.7565\n",
      " 0.7606 0.7549 0.7667 0.7686 0.77   0.7609 0.7708 0.7715 0.7702 0.7729\n",
      " 0.7742 0.7745 0.7714 0.7767 0.7758 0.7584 0.7747 0.9223 0.9233 0.9236\n",
      " 0.9235]\n"
     ]
    },
    {
     "name": "stderr",
     "output_type": "stream",
     "text": [
      "/tmp/ipykernel_420107/1598832670.py:1: UserWarning: loadtxt: input contained no data: \"../model/losses.csv\"\n",
      "  loss_values = np.loadtxt(\"../model/losses.csv\", delimiter=\",\", usecols=0)\n"
     ]
    }
   ],
   "source": [
    "loss_values = np.loadtxt(\"../model/losses.csv\", delimiter=\",\", usecols=0)\n",
    "print(loss_values)\n",
    "\n",
    "psnr_values = np.loadtxt(\"../results/evaluation_metrics_results.csv\", usecols=1, skiprows=1, delimiter=\",\")\n",
    "print(psnr_values)\n",
    "\n",
    "ssim_values = np.loadtxt(\"../results/evaluation_metrics_results.csv\", usecols=2, skiprows=1, delimiter=\",\")\n",
    "print(ssim_values)"
   ]
  },
  {
   "cell_type": "code",
   "execution_count": null,
   "metadata": {},
   "outputs": [],
   "source": []
  },
  {
   "cell_type": "code",
   "execution_count": null,
   "metadata": {},
   "outputs": [],
   "source": [
    "num_epochs = len(loss_values) #// 296\n",
    "loss_x = np.arange(0, num_epochs + 1, 1 / 296)\n",
    "loss_x = loss_x[:len(loss_values)]\n",
    "\n",
    "num_epochs = len(psnr_values) \n",
    "psnr_x = np.arange(0, num_epochs + 1, 1 )\n",
    "psnr_x = psnr_x[:len(psnr_values)]\n",
    "\n",
    "num_epochs = len(ssim_values)\n",
    "ssim_x = np.arange(0, num_epochs + 1, 1 )\n",
    "ssim_x = ssim_x[:len(ssim_values)]"
   ]
  }
 ],
 "metadata": {
  "kernelspec": {
   "display_name": ".venv",
   "language": "python",
   "name": "python3"
  },
  "language_info": {
   "codemirror_mode": {
    "name": "ipython",
    "version": 3
   },
   "file_extension": ".py",
   "mimetype": "text/x-python",
   "name": "python",
   "nbconvert_exporter": "python",
   "pygments_lexer": "ipython3",
   "version": "3.10.16"
  }
 },
 "nbformat": 4,
 "nbformat_minor": 2
}
